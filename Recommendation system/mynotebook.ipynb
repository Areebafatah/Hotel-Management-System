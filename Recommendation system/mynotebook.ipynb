{
 "cells": [
  {
   "cell_type": "markdown",
   "metadata": {
    "id": "R1oRN_iiHN_7"
   },
   "source": [
    "Importing the dependencies"
   ]
  },
  {
   "cell_type": "code",
   "execution_count": 1,
   "metadata": {
    "id": "GAGi6hrzFLOb"
   },
   "outputs": [],
   "source": [
    "import numpy as np\n",
    "import pandas as pd\n",
    "import difflib\n",
    "from sklearn.feature_extraction.text import TfidfVectorizer\n",
    "from sklearn.metrics.pairwise import cosine_similarity"
   ]
  },
  {
   "cell_type": "markdown",
   "metadata": {
    "id": "mfIW1BYVIGfP"
   },
   "source": [
    "Data Collection and Pre-Processing"
   ]
  },
  {
   "cell_type": "code",
   "execution_count": 3,
   "metadata": {
    "colab": {
     "base_uri": "https://localhost:8080/"
    },
    "id": "hunvyruUJhVq",
    "outputId": "2c7d6753-ee70-4e37-92a8-05fe7c6d4921"
   },
   "outputs": [],
   "source": [
    "movies_data = pd.read_csv('movies.csv')\n",
    "selected_features = ['genres','keywords','tagline','cast','director']\n",
    "for feature in selected_features:\n",
    "    movies_data[feature] = movies_data[feature].fillna('')"
   ]
  },
  {
   "cell_type": "code",
   "execution_count": 13,
   "metadata": {
    "id": "-AMjrRItLCO1"
   },
   "outputs": [],
   "source": [
    "combined_features = movies_data['genres']+' '+movies_data['keywords']+' '+movies_data['tagline']+' '+movies_data['cast']+' '+movies_data['director']\n",
    "similarity = cosine_similarity(feature_vectors)"
   ]
  },
  {
   "cell_type": "markdown",
   "metadata": {
    "id": "qEGga5yPMnXO"
   },
   "source": [
    "Cosine Similarity"
   ]
  },
  {
   "cell_type": "markdown",
   "metadata": {
    "id": "KmXULXO9TZun"
   },
   "source": [
    "Movie Recommendation Sytem"
   ]
  },
  {
   "cell_type": "code",
   "execution_count": 21,
   "metadata": {
    "colab": {
     "base_uri": "https://localhost:8080/"
    },
    "id": "QUDZfTSxTHDf",
    "outputId": "c4e32c1a-0a70-4854-8eee-8660135694a5"
   },
   "outputs": [],
   "source": [
    "def predictor(movie_name):\n",
    "    movies=[]\n",
    "    list_of_all_titles = movies_data['title'].tolist()\n",
    "\n",
    "    find_close_match = difflib.get_close_matches(movie_name, list_of_all_titles)\n",
    "\n",
    "    close_match = find_close_match[0]\n",
    "\n",
    "    index_of_the_movie = movies_data[movies_data.title == close_match]['index'].values[0]\n",
    "\n",
    "    similarity_score = list(enumerate(similarity[index_of_the_movie]))\n",
    "\n",
    "    sorted_similar_movies = sorted(similarity_score, key = lambda x:x[1], reverse = True) \n",
    "\n",
    "    i = 1\n",
    "    for movie in sorted_similar_movies:\n",
    "        index = movie[0]\n",
    "        title_from_index = movies_data[movies_data.index==index]['title'].values[0]\n",
    "        if (i<30):\n",
    "            movies.append(title_from_index)\n",
    "        i+=1\n",
    "    return movies[0]"
   ]
  },
  {
   "cell_type": "code",
   "execution_count": 22,
   "metadata": {},
   "outputs": [
    {
     "data": {
      "text/plain": [
       "'Nixon'"
      ]
     },
     "execution_count": 22,
     "metadata": {},
     "output_type": "execute_result"
    }
   ],
   "source": [
    "predictor('iron')"
   ]
  },
  {
   "cell_type": "code",
   "execution_count": null,
   "metadata": {},
   "outputs": [],
   "source": []
  }
 ],
 "metadata": {
  "colab": {
   "provenance": []
  },
  "kernelspec": {
   "display_name": "Python 3 (ipykernel)",
   "language": "python",
   "name": "python3"
  },
  "language_info": {
   "codemirror_mode": {
    "name": "ipython",
    "version": 3
   },
   "file_extension": ".py",
   "mimetype": "text/x-python",
   "name": "python",
   "nbconvert_exporter": "python",
   "pygments_lexer": "ipython3",
   "version": "3.9.13"
  }
 },
 "nbformat": 4,
 "nbformat_minor": 1
}
