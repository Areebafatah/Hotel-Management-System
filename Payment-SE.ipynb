{
 "cells": [
  {
   "cell_type": "code",
   "execution_count": 24,
   "id": "2a782190",
   "metadata": {},
   "outputs": [],
   "source": [
    "def Payment():\n",
    "    global i\n",
    "    id=input(\"Your Assigned ID: \")\n",
    "    print(\" Payment\")\n",
    "    print(\" --------------------------------\")\n",
    "    print(\"   HAVAN HEIGHTS PAYMENT \")\n",
    "    print(\" --------------------------------\")\n",
    "    print(\"  MODE OF PAYMENT\")\n",
    "\n",
    "    print(\"  1- Credit/Debit Card\")\n",
    "    print(\"  2- Jazcash\")\n",
    "    print(\"  3- Cash\")\n",
    "    x=int(input(\"-> \"))\n",
    "    if (x==1):\n",
    "        card=input(\"    Enter your Card No:\")\n",
    "    elif(x==2):\n",
    "        jazzid=input(\"  Enter your Jazz ID.\")\n",
    "    else:\n",
    "        print(\"         Proceed to Payment\")\n",
    "    print(\"\\n PAYMENT OF HAVAN HEIGHTS\")\n",
    "    print(\"  (YES/NO)\")\n",
    "    inp=str(input(\"->\"))\n",
    "    if inp=='YES' or inp=='NO':\n",
    "        print(\" --------------------------------\")\n",
    "        print(\"            Total  Bill\")\n",
    "        print(\" --------------------------------\")\n",
    "        print(\"\\n Amount: \",50000,\"\\t\")\n",
    "        print(\"\\n Room Type: \",'Standard',\"\\t\")\n",
    "        print(\" --------------------------------\")\n",
    "        print(\" --------------------------------\")\n",
    "        print(\"\")\n",
    "        print(\" lOOKING FORWARD TO HOST YOU AGAIN :) \")\n",
    "    else:\n",
    "        print(\"  Invalid \")"
   ]
  },
  {
   "cell_type": "code",
   "execution_count": 25,
   "id": "fc34ca41",
   "metadata": {},
   "outputs": [
    {
     "name": "stdout",
     "output_type": "stream",
     "text": [
      "Your Assigned ID: 54\n",
      " Payment\n",
      " --------------------------------\n",
      "   HAVAN HEIGHTS PAYMENT \n",
      " --------------------------------\n",
      "  MODE OF PAYMENT\n",
      "  1- Credit/Debit Card\n",
      "  2- Jazcash\n",
      "  3- Cash\n",
      "-> 1\n",
      "    Enter your Card No:147852\n",
      "\n",
      " PAYMENT OF HAVAN HEIGHTS\n",
      "  (YES/NO)\n",
      "->YES\n",
      " --------------------------------\n",
      "            Total  Bill\n",
      " --------------------------------\n",
      "\n",
      " Amount:  50000 \t\n",
      "\n",
      " Room Type:  Standard \t\n",
      " --------------------------------\n",
      " --------------------------------\n",
      "\n",
      " lOOKING FORWARD TO HOST YOU AGAIN :) \n"
     ]
    }
   ],
   "source": [
    "Payment()"
   ]
  },
  {
   "cell_type": "code",
   "execution_count": null,
   "id": "803ee5ec",
   "metadata": {},
   "outputs": [],
   "source": []
  }
 ],
 "metadata": {
  "kernelspec": {
   "display_name": "Python 3 (ipykernel)",
   "language": "python",
   "name": "python3"
  },
  "language_info": {
   "codemirror_mode": {
    "name": "ipython",
    "version": 3
   },
   "file_extension": ".py",
   "mimetype": "text/x-python",
   "name": "python",
   "nbconvert_exporter": "python",
   "pygments_lexer": "ipython3",
   "version": "3.9.13"
  }
 },
 "nbformat": 4,
 "nbformat_minor": 5
}
