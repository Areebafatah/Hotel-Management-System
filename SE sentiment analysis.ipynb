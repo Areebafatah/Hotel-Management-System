{
 "cells": [
  {
   "cell_type": "markdown",
   "id": "89bebeb4",
   "metadata": {},
   "source": [
    "# <div align=\"center\"><font color='red'><b>HOTEL REVIEW SENTIMENT ANALYSIS</b></font></div> \n",
    "\n",
    "***"
   ]
  },
  {
   "cell_type": "markdown",
   "id": "5e5c5aea",
   "metadata": {},
   "source": [
    "# <div align=\"center\"><font color='darkblue'></b> IMPORTING LIBRARIES</font></div>"
   ]
  },
  {
   "cell_type": "code",
   "execution_count": 1,
   "id": "30948454",
   "metadata": {},
   "outputs": [],
   "source": [
    "import pandas as pd\n",
    "import re\n",
    "import warnings\n",
    "warnings.filterwarnings(\"ignore\")\n",
    "from sklearn.metrics import classification_report\n",
    "from sklearn.model_selection import train_test_split\n",
    "from sklearn.feature_extraction.text import TfidfVectorizer\n",
    "from sklearn.neighbors import KNeighborsClassifier\n",
    "import string\n",
    "import pickle\n",
    "import matplotlib.pyplot as plt"
   ]
  },
  {
   "cell_type": "markdown",
   "id": "ee46de3e",
   "metadata": {},
   "source": [
    "# <div align=\"center\"><font color='darkblue'></b> READING DATA</font></div>"
   ]
  },
  {
   "cell_type": "code",
   "execution_count": 4,
   "id": "2e872722",
   "metadata": {},
   "outputs": [],
   "source": [
    "df=pd.read_csv('Hotel_Reviews.csv')\n",
    "df=df[:50000]"
   ]
  },
  {
   "cell_type": "markdown",
   "id": "1264b78e",
   "metadata": {},
   "source": [
    "# <div align=\"center\"><font color='darkblue'></b> PREPROCESSING DATA</font></div>"
   ]
  },
  {
   "cell_type": "code",
   "execution_count": 21,
   "id": "a4bab981",
   "metadata": {},
   "outputs": [
    {
     "data": {
      "text/html": [
       "<div>\n",
       "<style scoped>\n",
       "    .dataframe tbody tr th:only-of-type {\n",
       "        vertical-align: middle;\n",
       "    }\n",
       "\n",
       "    .dataframe tbody tr th {\n",
       "        vertical-align: top;\n",
       "    }\n",
       "\n",
       "    .dataframe thead th {\n",
       "        text-align: right;\n",
       "    }\n",
       "</style>\n",
       "<table border=\"1\" class=\"dataframe\">\n",
       "  <thead>\n",
       "    <tr style=\"text-align: right;\">\n",
       "      <th></th>\n",
       "      <th>Review</th>\n",
       "      <th>Reaction</th>\n",
       "      <th>text_corrected</th>\n",
       "    </tr>\n",
       "  </thead>\n",
       "  <tbody>\n",
       "    <tr>\n",
       "      <th>0</th>\n",
       "      <td>I am so angry that i made this post available...</td>\n",
       "      <td>Negative</td>\n",
       "      <td>i am so angry that i made this post available...</td>\n",
       "    </tr>\n",
       "    <tr>\n",
       "      <th>1</th>\n",
       "      <td>No Negative</td>\n",
       "      <td>Negative</td>\n",
       "      <td>no negative</td>\n",
       "    </tr>\n",
       "    <tr>\n",
       "      <th>2</th>\n",
       "      <td>Rooms are nice but for elderly a bit difficul...</td>\n",
       "      <td>Negative</td>\n",
       "      <td>rooms are nice but for elderly a bit difficul...</td>\n",
       "    </tr>\n",
       "    <tr>\n",
       "      <th>3</th>\n",
       "      <td>My room was dirty and I was afraid to walk ba...</td>\n",
       "      <td>Negative</td>\n",
       "      <td>my room was dirty and i was afraid to walk ba...</td>\n",
       "    </tr>\n",
       "    <tr>\n",
       "      <th>4</th>\n",
       "      <td>You When I booked with your company on line y...</td>\n",
       "      <td>Negative</td>\n",
       "      <td>you when i booked with your company on line y...</td>\n",
       "    </tr>\n",
       "    <tr>\n",
       "      <th>...</th>\n",
       "      <td>...</td>\n",
       "      <td>...</td>\n",
       "      <td>...</td>\n",
       "    </tr>\n",
       "    <tr>\n",
       "      <th>49995</th>\n",
       "      <td>We left to soon</td>\n",
       "      <td>Positive</td>\n",
       "      <td>we left to soon</td>\n",
       "    </tr>\n",
       "    <tr>\n",
       "      <th>49996</th>\n",
       "      <td>It s where you are but room was noisy by traf...</td>\n",
       "      <td>Positive</td>\n",
       "      <td>it s where you are but room was noisy by traf...</td>\n",
       "    </tr>\n",
       "    <tr>\n",
       "      <th>49997</th>\n",
       "      <td>Seems problem between booking comand the hote...</td>\n",
       "      <td>Positive</td>\n",
       "      <td>seems problem between booking comand the hote...</td>\n",
       "    </tr>\n",
       "    <tr>\n",
       "      <th>49998</th>\n",
       "      <td>One member of the bar staff was ignorant bord...</td>\n",
       "      <td>Positive</td>\n",
       "      <td>one member of the bar staff was ignorant bord...</td>\n",
       "    </tr>\n",
       "    <tr>\n",
       "      <th>49999</th>\n",
       "      <td>Fairly unpleasant staff upon crack in and che...</td>\n",
       "      <td>Positive</td>\n",
       "      <td>fairly unpleasant staff upon crack in and che...</td>\n",
       "    </tr>\n",
       "  </tbody>\n",
       "</table>\n",
       "<p>100000 rows × 3 columns</p>\n",
       "</div>"
      ],
      "text/plain": [
       "                                                  Review  Reaction  \\\n",
       "0       I am so angry that i made this post available...  Negative   \n",
       "1                                            No Negative  Negative   \n",
       "2       Rooms are nice but for elderly a bit difficul...  Negative   \n",
       "3       My room was dirty and I was afraid to walk ba...  Negative   \n",
       "4       You When I booked with your company on line y...  Negative   \n",
       "...                                                  ...       ...   \n",
       "49995                                   We left to soon   Positive   \n",
       "49996   It s where you are but room was noisy by traf...  Positive   \n",
       "49997   Seems problem between booking comand the hote...  Positive   \n",
       "49998   One member of the bar staff was ignorant bord...  Positive   \n",
       "49999   Fairly unpleasant staff upon crack in and che...  Positive   \n",
       "\n",
       "                                          text_corrected  \n",
       "0       i am so angry that i made this post available...  \n",
       "1                                            no negative  \n",
       "2       rooms are nice but for elderly a bit difficul...  \n",
       "3       my room was dirty and i was afraid to walk ba...  \n",
       "4       you when i booked with your company on line y...  \n",
       "...                                                  ...  \n",
       "49995                                   we left to soon   \n",
       "49996   it s where you are but room was noisy by traf...  \n",
       "49997   seems problem between booking comand the hote...  \n",
       "49998   one member of the bar staff was ignorant bord...  \n",
       "49999   fairly unpleasant staff upon crack in and che...  \n",
       "\n",
       "[100000 rows x 3 columns]"
      ]
     },
     "execution_count": 21,
     "metadata": {},
     "output_type": "execute_result"
    }
   ],
   "source": [
    "df1=df[['Negative_Review']]                                      # CONVERTING DATA INTO SUITABLE FORMAT\n",
    "df1['Reaction']='Negative'\n",
    "df1.columns=['Review','Reaction']\n",
    "df2=df[['Negative_Review']]\n",
    "df2['Reaction']='Positive'\n",
    "df2.columns=['Review','Reaction']\n",
    "df=pd.concat([df1,df2],axis=0)\n",
    "\n",
    "def text_clean(t):                                               # FUNCTION FOR CLEANING TEXT\n",
    "    t=t.lower()\n",
    "    t=re.sub('\\[.*?\\]','',t)\n",
    "    t=re.sub('[%s]'% re.escape(string.punctuation),'',t)\n",
    "    t=re.sub('\\w*\\d\\w*','',t)\n",
    "    t=re.sub('[\"\"\"`\"]','',t)\n",
    "    t=re.sub('\\n','',t)\n",
    "    return t\n",
    "clean_text=lambda x :text_clean(x)\n",
    "df['text_corrected']=pd.DataFrame(df.Review.apply(clean_text))    # CLEANING REVIEWS\n",
    "df"
   ]
  },
  {
   "cell_type": "markdown",
   "id": "8bbe409b",
   "metadata": {},
   "source": [
    "# <div align=\"center\"><font color='darkblue'></b> SPLITTING DATA </font></div>"
   ]
  },
  {
   "cell_type": "code",
   "execution_count": 22,
   "id": "087a1180",
   "metadata": {},
   "outputs": [],
   "source": [
    "X=df.text_corrected\n",
    "Y=df.Reaction\n",
    "X_train,X_test,Y_train,Y_test=train_test_split(X,Y,test_size=0.2,random_state=225)"
   ]
  },
  {
   "cell_type": "markdown",
   "id": "b7ffe60f",
   "metadata": {},
   "source": [
    "# <div align=\"center\"><font color='darkblue'></b> CREATING A PIPELINE OF VECTORIZER AND KNN </font></div>"
   ]
  },
  {
   "cell_type": "code",
   "execution_count": 32,
   "id": "f84cdbc6",
   "metadata": {},
   "outputs": [],
   "source": [
    "tfidf=TfidfVectorizer()\n",
    "clf2=KNeighborsClassifier(n_neighbors=7)\n",
    "model =Pipeline([('vectorizer',tfidf),('classifier',clf2)])\n",
    "model.fit(X_train,Y_train)\n",
    "Pre=model.predict(X_test)"
   ]
  },
  {
   "cell_type": "markdown",
   "id": "f6a08571",
   "metadata": {},
   "source": [
    "# <div align=\"center\"><font color='darkblue'></b> CLASSIFICATION REPORT </font></div>"
   ]
  },
  {
   "cell_type": "code",
   "execution_count": 31,
   "id": "67354431",
   "metadata": {},
   "outputs": [
    {
     "name": "stdout",
     "output_type": "stream",
     "text": [
      "              precision    recall  f1-score   support\n",
      "\n",
      "    Negative       0.62      0.43      0.51     14435\n",
      "    Positive       0.18      0.33      0.23      5565\n",
      "\n",
      "    accuracy                           0.40     20000\n",
      "   macro avg       0.40      0.38      0.37     20000\n",
      "weighted avg       0.50      0.40      0.43     20000\n",
      "\n"
     ]
    }
   ],
   "source": [
    "print(classification_report(Pre,Y_test))"
   ]
  },
  {
   "cell_type": "markdown",
   "id": "f1d828e3",
   "metadata": {},
   "source": [
    "# <div align=\"center\"><font color='darkblue'></b> DUMPING MODEL INTO PICKLE FILE </font></div>"
   ]
  },
  {
   "cell_type": "code",
   "execution_count": 36,
   "id": "395bd23e",
   "metadata": {},
   "outputs": [],
   "source": [
    "\n",
    "Pkl_Filename = \"Review.pkl\"  \n",
    "with open(Pkl_Filename, 'wb') as file:  \n",
    "    pickle.dump(model, file)    \n",
    "with open(Pkl_Filename, 'rb') as file:  \n",
    "    Pickled_Models = pickle.load(file)\n",
    "    "
   ]
  },
  {
   "cell_type": "markdown",
   "id": "0b6bd283",
   "metadata": {},
   "source": [
    "# <div align=\"center\"><font color='darkblue'></b>FUNCTION FOR TESTING MODEL </font></div>"
   ]
  },
  {
   "cell_type": "code",
   "execution_count": 37,
   "id": "a1fc06a3",
   "metadata": {},
   "outputs": [],
   "source": [
    "def result(data): \n",
    "    data=[data]\n",
    "    with open('Review.pkl', 'rb') as file:  \n",
    "        Pickled_Models = pickle.load(file)\n",
    "        Ypredict = Pickled_Models.predict(data)  \n",
    "        return Ypredict[0]\n",
    "    "
   ]
  },
  {
   "cell_type": "code",
   "execution_count": 38,
   "id": "7f6014a6",
   "metadata": {},
   "outputs": [
    {
     "data": {
      "text/plain": [
       "'Positive'"
      ]
     },
     "execution_count": 38,
     "metadata": {},
     "output_type": "execute_result"
    }
   ],
   "source": [
    "test_string='I HAD A GOOD TIME STAYING THERE'\n",
    "result(test_string)"
   ]
  },
  {
   "cell_type": "markdown",
   "id": "c1d9d2c1",
   "metadata": {},
   "source": [
    "# <div align=\"center\"><font color='red'></b> END </font></div>"
   ]
  }
 ],
 "metadata": {
  "kernelspec": {
   "display_name": "Python 3 (ipykernel)",
   "language": "python",
   "name": "python3"
  },
  "language_info": {
   "codemirror_mode": {
    "name": "ipython",
    "version": 3
   },
   "file_extension": ".py",
   "mimetype": "text/x-python",
   "name": "python",
   "nbconvert_exporter": "python",
   "pygments_lexer": "ipython3",
   "version": "3.9.13"
  }
 },
 "nbformat": 4,
 "nbformat_minor": 5
}
